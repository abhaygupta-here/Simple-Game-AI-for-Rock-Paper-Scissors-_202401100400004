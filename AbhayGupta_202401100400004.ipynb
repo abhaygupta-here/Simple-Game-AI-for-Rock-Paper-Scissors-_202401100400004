{
  "nbformat": 4,
  "nbformat_minor": 0,
  "metadata": {
    "colab": {
      "provenance": []
    },
    "kernelspec": {
      "name": "python3",
      "display_name": "Python 3"
    },
    "language_info": {
      "name": "python"
    }
  },
  "cells": [
    {
      "source": [
        "import random\n",
        "\n",
        "# Block 1: Get user's choice\n",
        "def get_user_choice():\n",
        "    \"\"\"Get the player's choice of rock, paper, or scissors.\"\"\"\n",
        "    # Prompt the user to enter their choice\n",
        "    print(\"Enter your choice (rock, paper, or scissors):\")\n",
        "    # Get the user's input and convert it to lowercase\n",
        "    user_choice = input().lower()\n",
        "    # Keep asking for input until a valid choice is entered\n",
        "    while user_choice not in [\"rock\", \"paper\", \"scissors\"]:\n",
        "        print(\"Invalid choice. Please choose rock, paper, or scissors:\")\n",
        "        user_choice = input().lower()\n",
        "        # Return the user's choice\n",
        "\n",
        "    return user_choice\n",
        "\n"
      ],
      "cell_type": "code",
      "metadata": {
        "id": "xpmQbiBcRPoB"
      },
      "execution_count": null,
      "outputs": []
    },
    {
      "cell_type": "code",
      "source": [
        "# Block 2: Get AI's choice\n",
        "def get_ai_choice():\n",
        "    \"\"\"AI randomly selects between rock, paper, or scissors.\"\"\"\n",
        "    # Randomly select a choice for the AI\n",
        "    return random.choice([\"rock\", \"paper\", \"scissors\"])\n",
        "\n"
      ],
      "metadata": {
        "id": "2hk10fxlRdIZ"
      },
      "execution_count": null,
      "outputs": []
    },
    {
      "cell_type": "code",
      "source": [
        "# Block 3: Determine the winner\n",
        "def determine_winner(user_choice, ai_choice):\n",
        "    \"\"\"Determine the winner of the game.\"\"\"\n",
        "    # Check if it's a tie\n",
        "    if user_choice == ai_choice:\n",
        "        return \"It's a tie!\"\n",
        "         # Check if the user wins\n",
        "    elif (user_choice == \"rock\" and ai_choice == \"scissors\") or \\\n",
        "         (user_choice == \"paper\" and ai_choice == \"rock\") or \\\n",
        "         (user_choice == \"scissors\" and ai_choice == \"paper\"):\n",
        "        return \"You win!\"\n",
        "        # Otherwise, the AI wins\n",
        "    else:\n",
        "        return \"AI wins!\"\n",
        "\n"
      ],
      "metadata": {
        "id": "cn7IIwk6RlNH"
      },
      "execution_count": null,
      "outputs": []
    },
    {
      "cell_type": "code",
      "source": [
        "# Block 4: Play the game\n",
        "def play_game():\n",
        "    \"\"\"Play a single round of Rock-Paper-Scissors.\"\"\"\n",
        "     # Get the user's choice\n",
        "    user_choice = get_user_choice()\n",
        "    # Get the AI's choice\n",
        "    ai_choice = get_ai_choice()\n",
        "    # Print the AI's choice\n",
        "    print(f\"AI chose: {ai_choice}\")\n",
        "     # Determine the winner\n",
        "    result = determine_winner(user_choice, ai_choice)\n",
        "    # Print the result\n",
        "    print(result)\n",
        "\n"
      ],
      "metadata": {
        "id": "UOQMV9G9Ron0"
      },
      "execution_count": null,
      "outputs": []
    },
    {
      "cell_type": "code",
      "source": [
        "# Block 5: Start the game\n",
        "if __name__ == \"__main__\":\n",
        "  # Call the play_game function to start the game\n",
        "    play_game()"
      ],
      "metadata": {
        "colab": {
          "base_uri": "https://localhost:8080/"
        },
        "id": "juu1OJ6LRrH5",
        "outputId": "822a07b1-2951-4109-c744-d8d51b068e5a"
      },
      "execution_count": null,
      "outputs": [
        {
          "output_type": "stream",
          "name": "stdout",
          "text": [
            "Enter your choice (rock, paper, or scissors):\n",
            "SCISSORS\n",
            "AI chose: scissors\n",
            "It's a tie!\n"
          ]
        }
      ]
    }
  ]
}